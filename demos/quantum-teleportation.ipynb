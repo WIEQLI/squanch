{
 "cells": [
  {
   "cell_type": "markdown",
   "metadata": {},
   "source": [
    "# SQUANCH demonstration: quantum teleportation"
   ]
  },
  {
   "cell_type": "code",
   "execution_count": 1,
   "metadata": {},
   "outputs": [],
   "source": [
    "import numpy as np\n",
    "import matplotlib.pyplot as plt\n",
    "from squanch import *\n",
    "% matplotlib inline"
   ]
  },
  {
   "cell_type": "markdown",
   "metadata": {},
   "source": [
    "This Jupyter notebook contains the source code for the [quantum teleportation demonstration](https://att-innovate.github.io/squanch/demos/quantum-teleportation.html). Refer to the documentation for more detailed explanations. \n",
    "\n",
    "Quantum teleportation allows two parties that share an entangled pair to transfer a quantum state using classical communication. Conecptually, quantum teleportation is the inverse of superdense coding.\n",
    "\n",
    "![Teleportation circuit](https://upload.wikimedia.org/wikipedia/commons/thumb/d/dc/Quantum_teleportation_circuit.svg/700px-Quantum_teleportation_circuit.svg.png)\n",
    "\n",
    "In this demo, we'll implement a simple two-party quantum teleportation protocol using the above circuit diagram.\n",
    "\n",
    "1. Alice generates an EPR pair; for this protocol, we'll use the state $\\lvert q_1 q_2 \\rangle = \\frac{1}{\\sqrt{2}} \\left (\\lvert 00 \\rangle + \\lvert 11 \\rangle \\right )$. She will keep one particle in the pair and send the other one to Bob.\n",
    "\n",
    "2. Alice entangles her qubit $q_0$ with her ancilla $q_1$ by applying controlled-not and Hadamard operators. \n",
    "\n",
    "3. Alice measures both of her qubits and communicates the results (two bits) to Bob through a classical channel. Bob's qubit is now in one of four possible states, one of which is $\\lvert q_0 \\rangle$. Bob will use Alice's two bits to determine what operations to apply to recover $\\lvert q_0 \\rangle$.\n",
    "\n",
    "4. Bob applies a Pauli-X operator to his qubit if Alice's ancilla collapsed to $\\lvert q_1 \\rangle = \\lvert 1 \\rangle$, and he applies a Pauli-Z operator to his qubit if her qubit collapsed to $\\lvert q_0 \\rangle = \\lvert 1 \\rangle$. \n"
   ]
  },
  {
   "cell_type": "markdown",
   "metadata": {},
   "source": [
    "## Agent logic"
   ]
  },
  {
   "cell_type": "code",
   "execution_count": 2,
   "metadata": {},
   "outputs": [],
   "source": [
    "class Alice(Agent):\n",
    "    '''Alice sends qubits to Bob using a shared Bell pair'''\n",
    "    \n",
    "    def distribute_bell_pair(self, a, b):\n",
    "        # Create a Bell pair and send one particle to Bob\n",
    "        H(a)\n",
    "        CNOT(a, b)\n",
    "        self.qsend(bob, b)\n",
    "\n",
    "    def teleport(self, q, a):\n",
    "        # Perform the teleportation\n",
    "        CNOT(q, a)\n",
    "        H(q)\n",
    "        # Tell Bob whether to apply Pauli-X and -Z over classical channel\n",
    "        bob_should_apply_x = a.measure() # if Bob should apply X\n",
    "        bob_should_apply_z = q.measure() # if Bob should apply Z\n",
    "        self.csend(bob, [bob_should_apply_x, bob_should_apply_z])\n",
    "\n",
    "    def run(self):\n",
    "        for qsystem in self.stream:\n",
    "            q, a, b = qsystem.qubits # q is state to teleport, a and b are Bell pair\n",
    "            self.distribute_bell_pair(a, b)\n",
    "            self.teleport(q, a)"
   ]
  },
  {
   "cell_type": "code",
   "execution_count": 3,
   "metadata": {},
   "outputs": [],
   "source": [
    "class Bob(Agent):\n",
    "    '''Bob receives qubits from Alice and measures the results'''\n",
    "\n",
    "    def run(self):\n",
    "        measurement_results = []\n",
    "        for _ in self.stream:\n",
    "            # Bob receives a qubit from Alice\n",
    "            b = self.qrecv(alice) \n",
    "            # Bob receives classical instructions from alice\n",
    "            should_apply_x, should_apply_z = self.crecv(alice)\n",
    "            if should_apply_x: X(b)\n",
    "            if should_apply_z: Z(b)\n",
    "            # Measure the output state\n",
    "            measurement_results.append(b.measure())\n",
    "        # Put results in output object\n",
    "        self.output(measurement_results)"
   ]
  },
  {
   "cell_type": "markdown",
   "metadata": {},
   "source": [
    "### Simple demonstration\n",
    "\n",
    "In this demo, we'll teleport a short list of eigenstates with no simulated errors."
   ]
  },
  {
   "cell_type": "code",
   "execution_count": 4,
   "metadata": {},
   "outputs": [
    {
     "name": "stdout",
     "output_type": "stream",
     "text": [
      "Teleported states [1, 0, 1, 0, 1, 0, 1, 0, 1, 0]\n",
      "Received states   [1, 0, 1, 0, 1, 0, 1, 0, 1, 0]\n"
     ]
    }
   ],
   "source": [
    "# Allocate memory and output structures\n",
    "mem = Agent.shared_hilbert_space(3, 10) # 3 qubits per trial, 10 trials\n",
    "out = Agent.shared_output()\n",
    "\n",
    "# Prepare the initial states\n",
    "stream = QStream.from_array(mem)\n",
    "states_to_teleport = [1, 0, 1, 0, 1, 0, 1, 0, 1, 0]\n",
    "for state, qsystem in zip(states_to_teleport, stream):\n",
    "    q = qsystem.qubit(0)\n",
    "    if state == 1: X(q) # flip the qubits corresponding to 1 states\n",
    "\n",
    "# Make and connect the agents\n",
    "alice = Alice(mem, out)\n",
    "bob = Bob(mem, out)\n",
    "alice.qconnect(bob) # add a quantum channel\n",
    "alice.cconnect(bob) # add a classical channel\n",
    "\n",
    "# Run everything\n",
    "alice.start()\n",
    "bob.start()\n",
    "alice.join()\n",
    "bob.join()\n",
    "\n",
    "print(\"Teleported states {}\".format(states_to_teleport))\n",
    "print(\"Received states   {}\".format(out[\"Bob\"]))"
   ]
  },
  {
   "cell_type": "markdown",
   "metadata": {},
   "source": [
    "### Rotation demonstration\n",
    "\n",
    "Here we rotate an ensemble of qubits by various angles and compare measured to expected results. Since this example takes longer to run, we'll demonstrate using the `Simulation` module to automatically monitor progress."
   ]
  },
  {
   "cell_type": "code",
   "execution_count": 5,
   "metadata": {},
   "outputs": [
    {
     "data": {
      "application/vnd.jupyter.widget-view+json": {
       "model_id": "412c56b62e104a4ea67d127ee1ad42d3",
       "version_major": 2,
       "version_minor": 0
      },
      "text/plain": [
       "HBox(children=(IntProgress(value=0, description='Alice', max=12500), HTML(value='')))"
      ]
     },
     "metadata": {},
     "output_type": "display_data"
    },
    {
     "data": {
      "application/vnd.jupyter.widget-view+json": {
       "model_id": "88b4605d30224a2c8d93cfc4296d7412",
       "version_major": 2,
       "version_minor": 0
      },
      "text/plain": [
       "HBox(children=(IntProgress(value=0, description='Bob', max=12500), HTML(value='')))"
      ]
     },
     "metadata": {},
     "output_type": "display_data"
    },
    {
     "name": "stdout",
     "output_type": "stream",
     "text": [
      "\n",
      "\n"
     ]
    },
    {
     "data": {
      "image/png": "[encoded data removed]",
      "text/plain": [
       "<Figure size 432x288 with 1 Axes>"
      ]
     },
     "metadata": {},
     "output_type": "display_data"
    }
   ],
   "source": [
    "angles = np.linspace(0, 2 * np.pi, 50)  # RX angles to apply\n",
    "num_trials = 250  # number of trials for each angle\n",
    "\n",
    "# Allocate memory and output structures\n",
    "mem = Agent.shared_hilbert_space(3, len(angles) * num_trials)\n",
    "out = Agent.shared_output()\n",
    "\n",
    "# Prepare the initial states in the stream\n",
    "stream = QStream.from_array(mem)\n",
    "for angle in angles:\n",
    "    for _ in range(num_trials):\n",
    "        q, _, _ = stream.next().qubits\n",
    "        RX(q, angle)\n",
    "\n",
    "# Make the agents and connect with quantum and classical channels\n",
    "alice = Alice(mem, out = out)\n",
    "bob = Bob(mem, out = out)\n",
    "alice.qconnect(bob)\n",
    "alice.cconnect(bob)\n",
    "\n",
    "# Run the simulation\n",
    "Simulation(alice, bob).run()\n",
    "\n",
    "# Plot the results\n",
    "results = np.array(out[\"Bob\"]).reshape((len(angles), num_trials))\n",
    "observed = np.mean(results, axis = 1)\n",
    "expected = np.sin(angles / 2) ** 2\n",
    "plt.plot(angles, observed, label = 'Observed')\n",
    "plt.plot(angles, expected, label = 'Expected')\n",
    "plt.legend()\n",
    "plt.xlabel(\"$\\Theta$ in $R_X(\\Theta)$ applied to qubits\")\n",
    "plt.ylabel(\"Fractional $\\left | 1 \\\\right >$ population\")\n",
    "plt.show()"
   ]
  },
  {
   "cell_type": "code",
   "execution_count": null,
   "metadata": {},
   "outputs": [],
   "source": []
  }
 ],
 "metadata": {
  "kernelspec": {
   "display_name": "Python 3",
   "language": "python",
   "name": "python3"
  },
  "language_info": {
   "codemirror_mode": {
    "name": "ipython",
    "version": 3
   },
   "file_extension": ".py",
   "mimetype": "text/x-python",
   "name": "python",
   "nbconvert_exporter": "python",
   "pygments_lexer": "ipython3",
   "version": "3.6.5"
  }
 },
 "nbformat": 4,
 "nbformat_minor": 2
}
