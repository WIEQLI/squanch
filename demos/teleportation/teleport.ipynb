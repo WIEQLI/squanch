{
 "cells": [
  {
   "cell_type": "markdown",
   "metadata": {
    "collapsed": true
   },
   "source": [
    "# Quantum teleportation demo using SQUANCH"
   ]
  },
  {
   "cell_type": "code",
   "execution_count": 1,
   "metadata": {},
   "outputs": [],
   "source": [
    "import numpy as np\n",
    "import matplotlib.pyplot as plt\n",
    "from squanch.agent import *\n",
    "from squanch.gates import *\n",
    "from squanch.qstream import *\n",
    "% matplotlib inline"
   ]
  },
  {
   "cell_type": "markdown",
   "metadata": {},
   "source": [
    "We'll be implementing this quantum teleportation scheme:\n",
    "\n",
    "![Teleportation circuit](https://upload.wikimedia.org/wikipedia/commons/thumb/d/dc/Quantum_teleportation_circuit.svg/700px-Quantum_teleportation_circuit.svg.png)\n",
    "\n",
    "Alice will have the original qubit to be teleported and half of a Bell pair (she sends the other half to Bob prior to the teleportation)."
   ]
  },
  {
   "cell_type": "code",
   "execution_count": 2,
   "metadata": {},
   "outputs": [],
   "source": [
    "class Alice(Agent):\n",
    "    '''Alice sends qubits to Bob using a shared Bell pair'''\n",
    "\n",
    "    def teleport(self, qSystem):\n",
    "        # Generate a Bell pair and send half of it to Bob\n",
    "        q, a, b = qSystem.qubits\n",
    "        H(a)\n",
    "        CNOT(a, b)\n",
    "        self.qsend(bob, b)\n",
    "        # Perform the teleportation\n",
    "        CNOT(q, a)\n",
    "        H(q)\n",
    "        bobZ = q.measure() # If Bob should apply Z\n",
    "        bobX = a.measure() # If Bob should apply X\n",
    "        self.csend(bob, [bobX, bobZ])\n",
    "\n",
    "    def run(self):\n",
    "        for qSys in self.stream:\n",
    "            self.teleport(qSys)\n",
    "\n",
    "\n",
    "class Bob(Agent):\n",
    "    '''Bob receives qubits from Alice and measures the results'''\n",
    "\n",
    "    def run(self):\n",
    "        measurementResults = []\n",
    "        for _ in self.stream:\n",
    "            b = self.qrecv(alice)\n",
    "            doX, doZ = self.crecv(alice)\n",
    "            if doX and b is not None: X(b)\n",
    "            if doZ and b is not None: Z(b)\n",
    "            measurementResults.append(b.measure())\n",
    "        self.output(measurementResults)"
   ]
  },
  {
   "cell_type": "markdown",
   "metadata": {},
   "source": [
    "### Simple demonstration"
   ]
  },
  {
   "cell_type": "code",
   "execution_count": 3,
   "metadata": {},
   "outputs": [
    {
     "name": "stdout",
     "output_type": "stream",
     "text": [
      "Teleported states [1, 0, 1, 0, 1, 0, 1, 0, 1, 0] \nReceived states   [1, 0, 1, 0, 1, 0, 1, 0, 1, 0]\n"
     ]
    }
   ],
   "source": [
    "# Allocate memory and output structures\n",
    "mem = sharedHilbertSpace(3, 10)\n",
    "out = sharedOutputDict()\n",
    "\n",
    "# Prepare the initial states\n",
    "stream = QStream.fromArray(mem)\n",
    "statesList = [1, 0, 1, 0, 1, 0, 1, 0, 1, 0]\n",
    "for state, qSys in zip(statesList, stream):\n",
    "    q = qSys.qubit(0)\n",
    "    if state == 1: X(q)  # Flip the qubits corresponding to 1's\n",
    "\n",
    "# Make the agents\n",
    "alice = Alice(mem)\n",
    "bob = Bob(mem, out = out)\n",
    "\n",
    "# Connect the agents\n",
    "connectAgents(alice, bob, length = 0.0)\n",
    "\n",
    "# Run everything\n",
    "alice.start(); bob.start()\n",
    "alice.join(); bob.join()\n",
    "\n",
    "print \"Teleported states {} \\n\" \\\n",
    "      \"Received states   {}\".format(statesList, out[\"Bob\"])"
   ]
  },
  {
   "cell_type": "markdown",
   "metadata": {},
   "source": [
    "### Rotation demonstration"
   ]
  },
  {
   "cell_type": "code",
   "execution_count": 4,
   "metadata": {},
   "outputs": [
    {
     "data": {
      "image/png": "[encoded data removed]",
      "text/plain": [
       "<matplotlib.figure.Figure at 0x117e48850>"
      ]
     },
     "metadata": {},
     "output_type": "display_data"
    }
   ],
   "source": [
    "angles = np.linspace(0, 2 * np.pi, 30)  # RX angles to apply\n",
    "numTrials = 250  # number of trials for each angle\n",
    "\n",
    "# Allocate memory and output structures\n",
    "mem = sharedHilbertSpace(3, len(angles) * numTrials)\n",
    "out = sharedOutputDict()\n",
    "\n",
    "# Prepare the initial states in the stream\n",
    "stream = QStream.fromArray(mem)\n",
    "for angle in angles:\n",
    "    for _ in range(numTrials):\n",
    "        q = stream.head().qubit(0)\n",
    "        RX(q, angle)\n",
    "stream.index = 0  # reset the head counter\n",
    "\n",
    "# Make the agents\n",
    "alice = Alice(mem)\n",
    "bob = Bob(mem, out = out)\n",
    "\n",
    "# Connect the agents\n",
    "connectAgents(alice, bob)\n",
    "\n",
    "# Run everything\n",
    "alice.start(); bob.start()\n",
    "alice.join(); bob.join()\n",
    "\n",
    "results = np.array(out[\"Bob\"]).reshape((len(angles), numTrials))\n",
    "meanResults = np.mean(results, axis = 1)\n",
    "expectedResults = np.sin(angles / 2) ** 2\n",
    "plt.plot(angles, meanResults, label = 'Observed')\n",
    "plt.plot(angles, expectedResults, label = 'Expected')\n",
    "plt.legend()\n",
    "plt.xlabel(\"$\\Theta$ in $R_X(\\Theta)$ applied to qubits\")\n",
    "plt.ylabel(\"Fractional $\\left | 1 \\\\right >$ population\")\n",
    "plt.show()"
   ]
  }
 ],
 "metadata": {
  "kernelspec": {
   "display_name": "Python 2",
   "language": "python",
   "name": "python2"
  },
  "language_info": {
   "codemirror_mode": {
    "name": "ipython",
    "version": 2.0
   },
   "file_extension": ".py",
   "mimetype": "text/x-python",
   "name": "python",
   "nbconvert_exporter": "python",
   "pygments_lexer": "ipython2",
   "version": "2.7.6"
  }
 },
 "nbformat": 4,
 "nbformat_minor": 0
}