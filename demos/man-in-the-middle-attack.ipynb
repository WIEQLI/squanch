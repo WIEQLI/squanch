{
 "cells": [
  {
   "cell_type": "markdown",
   "metadata": {},
   "source": [
    "# SQUANCH demonstration: man-in-the-middle attack"
   ]
  },
  {
   "cell_type": "code",
   "execution_count": 1,
   "metadata": {},
   "outputs": [],
   "source": [
    "from squanch import *\n",
    "import numpy as np\n",
    "import matplotlib.image as image\n",
    "import matplotlib.pyplot as plt\n",
    "%matplotlib inline"
   ]
  },
  {
   "cell_type": "markdown",
   "metadata": {},
   "source": [
    "This Jupyter notebook contains the source code for the [man-in-the-middle attack demonstration](https://att-innovate.github.io/squanch/demos/man-in-the-middle.html). Refer to the documentation for more detailed explanations. \n",
    "\n",
    "This demonstration is a modified version of the [superdense coding demonstration](https://att-innovate.github.io/squanch/demos/superdense-coding.html) where we show how quantum networks can be resistant to interception attacks. As before, Charlie will distribute Bell pairs to Alice and Bob, and Alice will attempt to send a classical message to Bob. However, a fourth party, Eve, will try to naiively intercept the message Alice sends to Bob. Eve will measure each qubit from Alice, record the result, and send the qubit to Bob. This scenario is illustrated below.\n",
    "\n",
    "![](../docs/source/img/man-in-the-middle-small.png)"
   ]
  },
  {
   "cell_type": "markdown",
   "metadata": {},
   "source": [
    "## Agent logic"
   ]
  },
  {
   "cell_type": "code",
   "execution_count": 2,
   "metadata": {},
   "outputs": [],
   "source": [
    "class Charlie(Agent):\n",
    "    '''Charlie distributes Bell pairs between Alice and Bob.'''\n",
    "    def run(self):\n",
    "        for qsys in self.stream:\n",
    "            a, b = qsys.qubits\n",
    "            H(a)\n",
    "            CNOT(a, b)\n",
    "            self.qsend(alice, a)\n",
    "            self.qsend(bob, b)"
   ]
  },
  {
   "cell_type": "code",
   "execution_count": 3,
   "metadata": {},
   "outputs": [],
   "source": [
    "class Alice(Agent):\n",
    "    '''Alice sends information to Bob via superdense coding'''\n",
    "    def run(self):\n",
    "        for _ in self.stream:\n",
    "            bit1 = self.data.pop(0)\n",
    "            bit2 = self.data.pop(0)\n",
    "            q = self.qrecv(charlie)\n",
    "            if q is not None:\n",
    "                if bit2 == 1: X(q)\n",
    "                if bit1 == 1: Z(q)\n",
    "            self.qsend(eve, q) # Alice unknowingly sends the qubit to Eve"
   ]
  },
  {
   "cell_type": "code",
   "execution_count": 4,
   "metadata": {},
   "outputs": [],
   "source": [
    "class Bob(Agent):\n",
    "    '''Bob receives Alice's transmissions and reconstructs her information'''\n",
    "    def run(self):\n",
    "        bits = []\n",
    "        for _ in self.stream:\n",
    "            a = self.qrecv(eve) # Bob receives his qubit from Eve\n",
    "            c = self.qrecv(charlie)\n",
    "            if a is not None and c is not None:\n",
    "                CNOT(a, c)\n",
    "                H(a)\n",
    "                bits.extend([a.measure(), c.measure()])\n",
    "            else:\n",
    "                bits.extend([0,0])\n",
    "        self.output(bits)"
   ]
  },
  {
   "cell_type": "code",
   "execution_count": 5,
   "metadata": {},
   "outputs": [],
   "source": [
    "class Eve(Agent):\n",
    "    '''Eve naively tries to intercept Alice's message'''\n",
    "    def run(self):\n",
    "        bits = [] \n",
    "        for _ in self.stream:\n",
    "            a = self.qrecv(alice)\n",
    "            if a is not None:\n",
    "                bits.append(a.measure())\n",
    "            else:\n",
    "                bits.append(0)\n",
    "            self.qsend(bob, a)\n",
    "            self.increment_progress()\n",
    "        self.output(bits)"
   ]
  },
  {
   "cell_type": "markdown",
   "metadata": {},
   "source": [
    "## Helper functions"
   ]
  },
  {
   "cell_type": "code",
   "execution_count": 6,
   "metadata": {},
   "outputs": [],
   "source": [
    "def image_to_black_and_white(filename):\n",
    "    return np.around(np.mean(image.imread(filename), axis=2) / 255)\n",
    "    \n",
    "def plot_alice_bob_eve_images(eve_bits, bob_bits):\n",
    "    eve_img = np.reshape(eve_bits, (int(img.shape[0]/2), img.shape[1]))\n",
    "    bob_img = np.reshape(bob_bits, img.shape)\n",
    "    f, ax = plt.subplots(1, 3, figsize = (18, 9))\n",
    "    ax[0].imshow(-255*img, cmap = \"Greys\")\n",
    "    ax[0].axis('off')\n",
    "    ax[0].title.set_text(\"Alice's image\")\n",
    "    ax[1].imshow(-255*eve_img, cmap = \"Greys\")\n",
    "    ax[1].axis('off')\n",
    "    ax[1].title.set_text(\"Eve's image\")\n",
    "    ax[2].imshow(-255*bob_img, cmap = \"Greys\")\n",
    "    ax[2].axis('off')\n",
    "    ax[2].title.set_text(\"Bob's image\")\n",
    "    plt.tight_layout()\n",
    "    plt.show()"
   ]
  },
  {
   "cell_type": "markdown",
   "metadata": {},
   "source": [
    "## Running the simulation"
   ]
  },
  {
   "cell_type": "code",
   "execution_count": 7,
   "metadata": {},
   "outputs": [],
   "source": [
    "# Load an image and serialize it to a bitstream\n",
    "img = image_to_black_and_white(\"../docs/source/img/squanchLogo.jpg\")\n",
    "bitstream = list(img.flatten())\n",
    "\n",
    "# Allocate a shared Hilbert space and output object to pass to agents\n",
    "mem = Agent.shared_hilbert_space(2, int(len(bitstream) / 2))\n",
    "out = Agent.shared_output()\n",
    "\n",
    "# Make agent instances\n",
    "alice = Alice(mem, out, data = bitstream)\n",
    "bob = Bob(mem, out)\n",
    "charlie = Charlie(mem, out)\n",
    "eve = Eve(mem, out)\n",
    "\n",
    "# Connect the agents over simulated fiber optic lines\n",
    "alice.qconnect(bob, FiberOpticQChannel, length=1.0)\n",
    "alice.qconnect(eve, FiberOpticQChannel, length=0.5)\n",
    "alice.qconnect(charlie, FiberOpticQChannel, length=0.5)\n",
    "bob.qconnect(charlie, FiberOpticQChannel, length=0.5)\n",
    "bob.qconnect(eve, FiberOpticQChannel, length=0.5)"
   ]
  },
  {
   "cell_type": "code",
   "execution_count": 8,
   "metadata": {},
   "outputs": [
    {
     "data": {
      "application/vnd.jupyter.widget-view+json": {
       "model_id": "6c6c66153302455c9d1ac03604e7aa1c",
       "version_major": 2,
       "version_minor": 0
      },
      "text/plain": [
       "HBox(children=(IntProgress(value=0, description='Alice', max=64350), HTML(value='')))"
      ]
     },
     "metadata": {},
     "output_type": "display_data"
    },
    {
     "data": {
      "application/vnd.jupyter.widget-view+json": {
       "model_id": "8ca55ae6f5d04fd486341953e1f14652",
       "version_major": 2,
       "version_minor": 0
      },
      "text/plain": [
       "HBox(children=(IntProgress(value=0, description='Eve', max=64350), HTML(value='')))"
      ]
     },
     "metadata": {},
     "output_type": "display_data"
    },
    {
     "data": {
      "application/vnd.jupyter.widget-view+json": {
       "model_id": "1f83452694504092bf7edf6256b321f8",
       "version_major": 2,
       "version_minor": 0
      },
      "text/plain": [
       "HBox(children=(IntProgress(value=0, description='Bob', max=64350), HTML(value='')))"
      ]
     },
     "metadata": {},
     "output_type": "display_data"
    },
    {
     "data": {
      "application/vnd.jupyter.widget-view+json": {
       "model_id": "85f7abf0e31248a8803b000e4c10aeea",
       "version_major": 2,
       "version_minor": 0
      },
      "text/plain": [
       "HBox(children=(IntProgress(value=0, description='Charlie', max=64350), HTML(value='')))"
      ]
     },
     "metadata": {},
     "output_type": "display_data"
    },
    {
     "name": "stdout",
     "output_type": "stream",
     "text": [
      "\n",
      "\n",
      "\n",
      "\n"
     ]
    },
    {
     "data": {
      "image/png": "[encoded data removed]",
      "text/plain": [
       "<Figure size 1296x648 with 3 Axes>"
      ]
     },
     "metadata": {},
     "output_type": "display_data"
    }
   ],
   "source": [
    "Simulation(alice, eve, bob, charlie).run()\n",
    "plot_alice_bob_eve_images(out[\"Eve\"], out[\"Bob\"])"
   ]
  }
 ],
 "metadata": {
  "kernelspec": {
   "display_name": "Python 3",
   "language": "python",
   "name": "python3"
  },
  "language_info": {
   "codemirror_mode": {
    "name": "ipython",
    "version": 3
   },
   "file_extension": ".py",
   "mimetype": "text/x-python",
   "name": "python",
   "nbconvert_exporter": "python",
   "pygments_lexer": "ipython3",
   "version": "3.6.5"
  }
 },
 "nbformat": 4,
 "nbformat_minor": 2
}
