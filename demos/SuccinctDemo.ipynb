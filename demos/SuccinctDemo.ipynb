{
 "cells": [
  {
   "cell_type": "code",
   "execution_count": 1,
   "metadata": {
    "collapsed": true
   },
   "outputs": [],
   "source": [
    "from tqdm import tnrange\n",
    "from squanch.agent import *\n",
    "from squanch.gates import *\n",
    "from squanch.qstream import * \n",
    "import numpy as np\n",
    "import matplotlib.image as image\n",
    "import matplotlib.pyplot as plt\n",
    "%matplotlib inline"
   ]
  },
  {
   "cell_type": "code",
   "execution_count": 22,
   "metadata": {
    "collapsed": true
   },
   "outputs": [],
   "source": [
    "# Load the image \n",
    "imgData = image.imread(\"img/attLogo.bmp\")\n",
    "\n",
    "# Convert the image array to a bitstream\n",
    "aliceData = np.unpackbits(imgData)\n",
    "bobData = np.zeros(aliceData.size, dtype = np.uint8)"
   ]
  },
  {
   "cell_type": "code",
   "execution_count": 3,
   "metadata": {
    "collapsed": true
   },
   "outputs": [],
   "source": [
    "def showData():\n",
    "    receivedArray = np.reshape(np.packbits(bobData), imgData.shape)\n",
    "    f, ax = plt.subplots(1, 2, figsize = (8,4))\n",
    "    ax[0].imshow(imgData)\n",
    "    ax[0].axis('off')\n",
    "    ax[0].title.set_text(\"Alice's image\")\n",
    "    ax[1].imshow(receivedArray)\n",
    "    ax[1].axis('off')\n",
    "    ax[1].title.set_text(\"Bob's image\")\n",
    "    plt.tight_layout()\n",
    "    plt.show()"
   ]
  },
  {
   "cell_type": "code",
   "execution_count": 23,
   "metadata": {},
   "outputs": [
    {
     "ename": "TypeError",
     "evalue": "__init__() takes at least 3 arguments (2 given)",
     "traceback": [
      "\u001b[0;31m\u001b[0m",
      "\u001b[0;31mTypeError\u001b[0mTraceback (most recent call last)",
      "\u001b[0;32m<ipython-input-23-0c5e2a5214e1>\u001b[0m in \u001b[0;36m<module>\u001b[0;34m()\u001b[0m\n\u001b[1;32m      4\u001b[0m \u001b[0mstream\u001b[0m \u001b[0;34m=\u001b[0m \u001b[0mQStream\u001b[0m\u001b[0;34m(\u001b[0m\u001b[0;36m2\u001b[0m\u001b[0;34m,\u001b[0m \u001b[0msize\u001b[0m\u001b[0;34m)\u001b[0m\u001b[0;34m\u001b[0m\u001b[0m\n\u001b[1;32m      5\u001b[0m \u001b[0;34m\u001b[0m\u001b[0m\n\u001b[0;32m----> 6\u001b[0;31m \u001b[0malice\u001b[0m \u001b[0;34m=\u001b[0m \u001b[0mAgent\u001b[0m\u001b[0;34m(\u001b[0m\u001b[0;34m\"Alice\"\u001b[0m\u001b[0;34m)\u001b[0m \u001b[0;31m# Sender\u001b[0m\u001b[0;34m\u001b[0m\u001b[0m\n\u001b[0m\u001b[1;32m      7\u001b[0m \u001b[0mbob\u001b[0m \u001b[0;34m=\u001b[0m \u001b[0mAgent\u001b[0m\u001b[0;34m(\u001b[0m\u001b[0;34m\"Bob\"\u001b[0m\u001b[0;34m)\u001b[0m \u001b[0;31m# Receiver\u001b[0m\u001b[0;34m\u001b[0m\u001b[0m\n\u001b[1;32m      8\u001b[0m \u001b[0mcharlie\u001b[0m \u001b[0;34m=\u001b[0m \u001b[0mAgent\u001b[0m\u001b[0;34m(\u001b[0m\u001b[0;34m\"Charlie\"\u001b[0m\u001b[0;34m)\u001b[0m \u001b[0;31m# Pair distributor\u001b[0m\u001b[0;34m\u001b[0m\u001b[0m\n",
      "\u001b[0;31mTypeError\u001b[0m: __init__() takes at least 3 arguments (2 given)"
     ],
     "output_type": "error"
    }
   ],
   "source": [
    "# Simulate sending an image with superdense coding over an Alice-Bob-Charlie system\n",
    "\n",
    "size = len(aliceData) / 2 # Alice's image as a bitstream\n",
    "stream = QStream(2, size)\n",
    "\n",
    "alice = Agent(\"Alice\") # Sender\n",
    "bob = Agent(\"Bob\") # Receiver\n",
    "charlie = Agent(\"Charlie\") # Pair distributor\n",
    "\n",
    "connectAgents(alice, bob, length = 1.0) \n",
    "connectAgents(alice, charlie, length = 0.5)\n",
    "connectAgents(bob, charlie, length = 0.5)\n",
    "\n",
    "# Charlie creates and distributes |00> + |11> pairs between Alice and Bob\n",
    "for _ in tnrange(size, desc = \"Charlie distributes pairs\"):\n",
    "    a, b = stream.head().qubits\n",
    "    H(a)\n",
    "    CNOT(a,b)\n",
    "    charlie.qsend(alice, a) \n",
    "    charlie.qsend(bob, b)\n",
    "\n",
    "# Alice encodes her data in the sign and phase of her qubit and sends to Bob\n",
    "for i in tnrange(size, desc = \"Alice encodes data\"):\n",
    "    bit1, bit2 = aliceData[2*i], aliceData[2*i + 1]\n",
    "    qubit = alice.qrecv(charlie)\n",
    "    if qubit is not None:\n",
    "        if bit2 == 1: X(qubit)\n",
    "        if bit1 == 1: Z(qubit)\n",
    "    alice.qsend(bob, qubit)\n",
    "\n",
    "# Bob receives the qubits, disentangles them, and reconstructs Alice's data\n",
    "for i in tnrange(size, desc = \"Bob decodes data\"):\n",
    "    a = bob.qrecv(alice)\n",
    "    c = bob.qrecv(charlie)\n",
    "    if a is not None and c is not None:\n",
    "        CNOT(a,c)\n",
    "        H(a)\n",
    "        bobData[2*i] = a.measure() \n",
    "        bobData[2*i + 1] = c.measure()\n",
    "        \n",
    "showData()"
   ]
  },
  {
   "cell_type": "markdown",
   "metadata": {},
   "source": [
    "## After multiprocessing changes"
   ]
  },
  {
   "cell_type": "code",
   "execution_count": 14,
   "metadata": {},
   "outputs": [],
   "source": [
    "class Charlie(Agent):\n",
    "    def run(self): \n",
    "        for i in range(size):\n",
    "            a,b = self.stream.head().qubits \n",
    "            H(a) \n",
    "            CNOT(a,b)\n",
    "            self.qsend(alice, a)\n",
    "            self.qsend(bob, b) \n",
    "        print \"Charlie is done!\"\n",
    "        \n",
    "class Alice(Agent):\n",
    "    def run(self):\n",
    "        for i in range(size): \n",
    "            bit1, bit2 = aliceData[2*i], aliceData[2*i + 1]\n",
    "            q = alice.qrecv(charlie)\n",
    "            if q is not None:\n",
    "                if bit2 == 1: X(q)\n",
    "                if bit1 == 1: Z(q)\n",
    "            alice.qsend(bob, q)\n",
    "        print \"Alice is done!\"\n",
    "        \n",
    "class Bob(Agent):\n",
    "    def run(self): \n",
    "        for i in range(size):\n",
    "            a = self.qrecv(alice)\n",
    "            c = self.qrecv(charlie) \n",
    "            if a is not None and c is not None:\n",
    "                CNOT(a,c)\n",
    "                H(a)\n",
    "                bobData[2*i] = a.measure() \n",
    "                bobData[2*i + 1] = c.measure() \n",
    "        self.output(bobData)\n",
    "        print \"Bob is done!\""
   ]
  },
  {
   "cell_type": "code",
   "execution_count": 26,
   "metadata": {
    "collapsed": true
   },
   "outputs": [
    {
     "name": "stdout",
     "output_type": "stream",
     "text": [
      "Charlie is done!\n"
     ]
    },
    {
     "name": "stdout",
     "output_type": "stream",
     "text": [
      "Alice is done!\n"
     ]
    },
    {
     "name": "stdout",
     "output_type": "stream",
     "text": [
      "Bob is done!\n"
     ]
    },
    {
     "data": {
      "image/png": "[encoded data removed]",
      "text/plain": [
       "<matplotlib.figure.Figure at 0x118a68b90>"
      ]
     },
     "metadata": {},
     "output_type": "display_data"
    }
   ],
   "source": [
    "# Simulate sending an image with superdense coding over an Alice-Bob-Charlie system\n",
    "streamSize = len(aliceData) / 2 # Alice's image as a bitstream\n",
    "mem = QStream.generateSharedHilbertSpace(2, streamSize)\n",
    "out = Agent.generateOutputDict()\n",
    "\n",
    "alice = Alice(\"Alice\", mem) # Sender\n",
    "bob = Bob(\"Bob\", mem, outDict = out) # Receiver\n",
    "charlie = Charlie(\"Charlie\", mem) # Pair distributor\n",
    "\n",
    "connectAgents(alice, bob, length = 1.0) \n",
    "connectAgents(alice, charlie, length = 0.5)\n",
    "connectAgents(bob, charlie, length = 0.5)\n",
    "\n",
    "alice.start()\n",
    "bob.start()\n",
    "charlie.start()\n",
    "\n",
    "alice.join()\n",
    "bob.join()\n",
    "charlie.join()\n",
    "\n",
    "recData = out[\"Bob\"]\n",
    "receivedArray = np.reshape(np.packbits(recData), imgData.shape)\n",
    "f, ax = plt.subplots(1, 2, figsize = (8,4))\n",
    "ax[0].imshow(imgData)\n",
    "ax[0].axis('off')\n",
    "ax[0].title.set_text(\"Alice's image\")\n",
    "ax[1].imshow(receivedArray)\n",
    "ax[1].axis('off')\n",
    "ax[1].title.set_text(\"Bob's image\")\n",
    "plt.tight_layout()\n",
    "plt.show()"
   ]
  },
  {
   "cell_type": "code",
   "execution_count": null,
   "metadata": {},
   "outputs": [],
   "source": [
    ""
   ]
  }
 ],
 "metadata": {
  "kernelspec": {
   "display_name": "Python 2",
   "language": "python",
   "name": "python2"
  },
  "language_info": {
   "codemirror_mode": {
    "name": "ipython",
    "version": 2.0
   },
   "file_extension": ".py",
   "mimetype": "text/x-python",
   "name": "python",
   "nbconvert_exporter": "python",
   "pygments_lexer": "ipython2",
   "version": "2.7.13"
  }
 },
 "nbformat": 4,
 "nbformat_minor": 0
}