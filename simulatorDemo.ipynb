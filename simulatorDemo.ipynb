{
 "cells": [
  {
   "cell_type": "markdown",
   "metadata": {
    "collapsed": true
   },
   "source": [
    "# Quantum superdense coding demonstration\n",
    "## Ben Bartlett"
   ]
  },
  {
   "cell_type": "code",
   "execution_count": 1,
   "metadata": {},
   "outputs": [],
   "source": [
    "import numpy as np\n",
    "import matplotlib.pyplot as plt\n",
    "import matplotlib as mp\n",
    "\n",
    "%matplotlib inline"
   ]
  },
  {
   "cell_type": "code",
   "execution_count": 36,
   "metadata": {},
   "outputs": [],
   "source": [
    "def isHermitian(matrix): \n",
    "    '''\n",
    "    Checks if an operator is Hermitian\n",
    "    :param matrix: the operator to check\n",
    "    :return: true or false\n",
    "    '''\n",
    "    return np.array_equal(matrix.conj().T, matrix)"
   ]
  },
  {
   "cell_type": "code",
   "execution_count": 37,
   "metadata": {},
   "outputs": [],
   "source": [
    "def tensorProd(state1, state2):\n",
    "    if len(state1) == 0:\n",
    "        return state2\n",
    "    elif len(state2) == 0:\n",
    "        return state1\n",
    "    else:\n",
    "        return np.kron(state1, state2)\n",
    "\n",
    "def tensors(operatorList):\n",
    "    result = []\n",
    "    for operator in operatorList:\n",
    "        result = tensorProd(result, operator)\n",
    "    return result\n",
    "\n",
    "def tensorFillIdentity(singleQubitOperator, nQubits, qubitIndex):\n",
    "    '''\n",
    "    Create the n-qubit operator I x I x ... Operator x I x I... with operator applied to a given\n",
    "    qubit index\n",
    "    :param singleQubitOperator: the operator in the computational basis (a 2x2 matrix)\n",
    "    :param nQubits: the number of qubits in the system to fill\n",
    "    :param qubitIndex: the zero-indexed qubit to apply this operator to\n",
    "    :return: the n-qubit operator\n",
    "    '''\n",
    "    assert 0 <= qubitIndex <= nQubits - 1, \"qubit Index is out of range\"\n",
    "    operator = tensors([\n",
    "        tensors([np.eye(2)] * qubitIndex),\n",
    "        singleQubitOperator,\n",
    "        tensors([np.eye(2)] * (nQubits - (qubitIndex + 1)))\n",
    "    ])\n",
    "    return operator"
   ]
  },
  {
   "cell_type": "code",
   "execution_count": 113,
   "metadata": {},
   "outputs": [
    {
     "data": {
      "text/plain": [
       "array([[ 1.,  0.,  0.,  0.],\n       [ 0.,  1.,  0.,  0.],\n       [ 0.,  0., -1., -0.],\n       [ 0.,  0., -0., -1.]])"
      ]
     },
     "execution_count": 113,
     "metadata": {},
     "output_type": "execute_result"
    }
   ],
   "source": [
    "tensorFillIdentity([[1, 0], [0, -1]], 2, 0)"
   ]
  },
  {
   "cell_type": "code",
   "execution_count": 38,
   "metadata": {},
   "outputs": [],
   "source": [
    "class Qubit:\n",
    "    '''\n",
    "    Simple qubit implementation. \n",
    "    Retains a reference to a quantum system that can deal with multi-particle dynamics\n",
    "    '''\n",
    "\n",
    "    def __init__(self, initialState=np.array([1, 0])):\n",
    "        self.initialState = initialState  # start off in the |0> state by default\n",
    "        self.index = 0  # the index/qubit number in the quantum system object\n",
    "        self.qSystem = QSystem([self])  # the overall quantum state of the system of qubits\n",
    "\n",
    "    def entangle(self, qSystem):\n",
    "        '''\n",
    "        Entangle this qubit with another set of ones.\n",
    "        This doesn't actually perform any entanglement, it just links the quantum systems\n",
    "        together, allowing multi-particle gates like CNOT to be applied.\n",
    "        :param qSystem: the state of 1+ qubits with which to entangle this one\n",
    "        :return: nothing\n",
    "        '''\n",
    "        qSystem.addQubit(self)  # add this to the quantum system\n",
    "        self.qSystem = qSystem  # change the quantum system object\n",
    "\n",
    "    def measure(self):\n",
    "        '''\n",
    "        Perform a measurement in the computational (z) basis on this qubit and update the \n",
    "        :return: 0 or 1, depending on the outcome of the measurement\n",
    "        '''\n",
    "        return self.qSystem.measureQubit(self.index)\n",
    "\n",
    "    def apply(self, operator):\n",
    "        '''\n",
    "        Apply a single-qubit operator to this qubit, updating the overall qSystem\n",
    "        :param operator: single-qubit operator to apply\n",
    "        :return: nothing, the qSystem state is mutated\n",
    "        '''\n",
    "        self.qSystem.apply(operator, index=self.index)\n",
    "    \n",
    "\n",
    "class QSystem:\n",
    "    '''\n",
    "    Maintains a multi-particle Hilbert space for several qubits\n",
    "    '''\n",
    "\n",
    "    def __init__(self, qubitList):\n",
    "        '''\n",
    "        Instantiate a new quantum system object form a list of existing qubits\n",
    "        :param qubitList: list of qubits to create the state from\n",
    "        '''\n",
    "        self.qubits = qubitList\n",
    "        self.state = []\n",
    "        for i, qubit in enumerate(qubitList):\n",
    "            self.state = tensorProd(self.state, qubit.initialState)\n",
    "            qubit.index = i\n",
    "\n",
    "    def addQubit(self, newQubit):\n",
    "        newQubit.index = len(self.qubits)  # zero indexed, so length is next index\n",
    "        self.qubits.append(newQubit)\n",
    "        # TODO: at the moment you can't make modifications to qubits then entangle them\n",
    "        self.state = tensorProd(self.state, newQubit.initialState)\n",
    "\n",
    "    def measureQubit(self, qubitIndex):\n",
    "        '''\n",
    "        Measure the qubit at a given index, partially collapsing the state based \n",
    "        on the observed value of the measured qubit\n",
    "        :param qubitIndex: the qubit to measure \n",
    "        :return: the measured qubit value\n",
    "        '''\n",
    "        # Generate measurement operators for the n-qubit state\n",
    "        M0 = np.outer([1, 0], [1, 0])\n",
    "        M1 = np.outer([0, 1], [0, 1])\n",
    "        measure0 = tensorFillIdentity(M0, len(self.qubits), qubitIndex)\n",
    "        measure1 = tensorFillIdentity(M1, len(self.qubits), qubitIndex)\n",
    "        prob0 = np.linalg.multi_dot([\n",
    "            self.state.conj().T,\n",
    "            measure0.conj().T,\n",
    "            measure0,\n",
    "            self.state\n",
    "        ])\n",
    "        prob1 = np.linalg.multi_dot([\n",
    "            self.state.conj().T,\n",
    "            measure1.conj().T,\n",
    "            measure1,\n",
    "            self.state\n",
    "        ])\n",
    "        # Perform the measurement and collapse the state matrix accordingly\n",
    "        if (np.random.rand() / (prob0 + prob1)) > prob0:\n",
    "            # qubit collapses to 1\n",
    "            self.state = np.dot(measure1, self.state) / np.sqrt(prob1)\n",
    "            return 1\n",
    "        else:\n",
    "            #qubit collapses to 0\n",
    "            self.state = np.dot(measure0, self.state) / np.sqrt(prob0)\n",
    "            return 0\n",
    "\n",
    "    def apply(self, operator, index=None):\n",
    "        '''\n",
    "        Apply an operator to this quantum state. If no index is specified, an n-qubit\n",
    "        operator is assumed, else a single-qubit operation is applied to the specified\n",
    "        qubit\n",
    "        :param operator: the single- or n-qubit operator to apply\n",
    "        :param index: if specified, the index of the qubit to perform the oepration on\n",
    "        :return: nothing, the qSystem state is mutated\n",
    "        '''\n",
    "        # Expand the operator to n qubits if needed\n",
    "        if index is not None:\n",
    "            operator = tensorFillIdentity(operator, len(self.qubits), index)\n",
    "        # Apply the operator\n",
    "        assert isHermitian(operator), \"Qubit operators must be Hermitian\"\n",
    "        self.state = np.dot(operator, self.state)"
   ]
  },
  {
   "cell_type": "code",
   "execution_count": 39,
   "metadata": {},
   "outputs": [],
   "source": [
    "# Single qubit gates \n",
    "\n",
    "def Hadamard(qubit):\n",
    "    '''\n",
    "    Implements the Hadamard transform on a given qubit, updating the qSystem\n",
    "    :param qubit: the qubit to apply the operator to\n",
    "    :return: nothing - the qSystem is mutated by this function\n",
    "    '''\n",
    "    hadamardMatrix = 1 / np.sqrt(2) * np.array([[1, 1], [1, -1]])\n",
    "    qubit.apply(hadamardMatrix)\n",
    "\n",
    "def PauliX(qubit):\n",
    "    xMatrix = np.array([[0, 1], [1, 0]])\n",
    "    qubit.apply(xMatrix)\n",
    "\n",
    "def PauliY(qubit):\n",
    "    yMatrix = np.array([[0, -1j], [1j, 0]])\n",
    "    qubit.apply(yMatrix)\n",
    "\n",
    "def PauliZ(qubit):\n",
    "    zMatrix = np.array([[1, 0], [0, -1]])\n",
    "    qubit.apply(zMatrix)\n",
    "\n",
    "\n",
    "# Some two-qubit operators as matrices; must be applied with qSystem.apply()\n",
    "\n",
    "CNOT = np.array([\n",
    "    [1, 0, 0, 0],\n",
    "    [0, 1, 0, 0],\n",
    "    [0, 0, 0, 1],\n",
    "    [0, 0, 1, 0],\n",
    "])"
   ]
  },
  {
   "cell_type": "markdown",
   "metadata": {},
   "source": [
    "## Quantum superdense coding\n",
    "\n",
    "![Superdense coding diagram](https://upload.wikimedia.org/wikipedia/commons/b/b7/Superdense_coding.png)"
   ]
  },
  {
   "cell_type": "code",
   "execution_count": 51,
   "metadata": {},
   "outputs": [],
   "source": [
    "def transmitTwoBits(bit1, bit2):\n",
    "    # Prepare a two-qubit system\n",
    "    alice = Qubit()\n",
    "    bob = Qubit()\n",
    "    bob.entangle(alice.qSystem)\n",
    "\n",
    "    # Prepare and share a Bell pair\n",
    "    Hadamard(alice)\n",
    "    alice.qSystem.apply(CNOT)\n",
    "\n",
    "    # Alice encodes her bits\n",
    "    if bit2 == 1:\n",
    "        PauliX(alice)\n",
    "    if bit1 == 1:\n",
    "        PauliZ(alice)\n",
    "\n",
    "    # Alice sends her qubit to bob and then he decodes the bits\n",
    "    bob.qSystem.apply(CNOT)\n",
    "    Hadamard(alice)\n",
    "\n",
    "    # Measure the results\n",
    "    outputBit1 = alice.measure()\n",
    "    outputBit2 = bob.measure()\n",
    "    return outputBit1, outputBit2\n",
    "\n",
    "def transmitByte(byteChar):\n",
    "    value = ord(byteChar)\n",
    "    bits = np.unpackbits(np.array([value], dtype=np.uint8))\n",
    "    receivedBits = np.zeros(8, dtype=np.uint8)\n",
    "    for i in range(4):\n",
    "        b1, b2 = transmitTwoBits(bits[2 * i], bits[2 * i + 1])\n",
    "        receivedBits[2 * i] = b1\n",
    "        receivedBits[2 * i + 1] = b2\n",
    "    receivedValue = np.packbits(receivedBits)[0]\n",
    "    return chr(receivedValue)\n"
   ]
  },
  {
   "cell_type": "code",
   "execution_count": 54,
   "metadata": {},
   "outputs": [
    {
     "data": {
      "text/plain": [
       "'1'"
      ]
     },
     "execution_count": 54,
     "metadata": {},
     "output_type": "execute_result"
    }
   ],
   "source": [
    "transmitByte('1')"
   ]
  },
  {
   "cell_type": "markdown",
   "metadata": {},
   "source": [
    "## Incorporating fiber optic losses\n",
    "\n",
    "Let's simulate some of the losses that occur over fiber optic cables and see how this affects transmission fidelity. "
   ]
  },
  {
   "cell_type": "code",
   "execution_count": 109,
   "metadata": {},
   "outputs": [],
   "source": [
    "fiberOpticAttenuation = -0.16  # dB/km, from Yin, et al, Satellite-based entanglement\n",
    "cableLength = 1  # km, let's just call it this for now \n",
    "# Total attenuation along the fiber, equal to probability of receiving a photon\n",
    "decibelLoss = cableLength * fiberOpticAttenuation\n",
    "cableAttenuation = 10 ** (decibelLoss / 10)\n",
    "    \n",
    "def attenuatedSuperdenseTransmission(bit1, bit2):\n",
    "    # Alice prepares a two-qubit system\n",
    "    alice = Qubit()\n",
    "    bob = Qubit()\n",
    "    bob.entangle(alice.qSystem)\n",
    "    Hadamard(alice)\n",
    "    alice.qSystem.apply(CNOT)\n",
    "\n",
    "    # Alice sends the first qubit to Bob - if it is attenuated, return 0,0\n",
    "    if np.random.rand() > cableAttenuation:\n",
    "        return 0,0\n",
    "\n",
    "    # Alice encodes her bits\n",
    "    if bit2 == 1:\n",
    "        PauliX(alice)\n",
    "    if bit1 == 1:\n",
    "        PauliZ(alice)\n",
    "\n",
    "    # Alice sends her qubit to bob and then he decodes the bits\n",
    "    if np.random.rand() > cableAttenuation:\n",
    "        return 0,0 \n",
    "    bob.qSystem.apply(CNOT)\n",
    "    Hadamard(alice)\n",
    "\n",
    "    # Measure the results\n",
    "    outputBit1 = alice.measure()\n",
    "    outputBit2 = bob.measure()\n",
    "    return outputBit1, outputBit2\n",
    "\n",
    "def attenuatedIntTransmission(value):\n",
    "    '''Transmit an 8-bit unsigned integer value including attenuation effects'''\n",
    "    bits = np.unpackbits(np.array([value], dtype = np.uint8))\n",
    "    receivedBits = np.zeros(8, dtype = np.uint8)\n",
    "    for i in range(4):\n",
    "        b1, b2 = attenuatedSuperdenseTransmission(bits[2*i], bits[2*i+1]) \n",
    "        receivedBits[2*i] = b1\n",
    "        receivedBits[2*i+1] = b2 \n",
    "    return np.packbits(receivedBits)[0]\n",
    "\n",
    "def attenuatedArrayTransmission(array):\n",
    "    receivedArray = np.zeros(array.shape, dtype = np.uint8)\n",
    "    iterator = np.nditer(array, flags=['multi_index'])\n",
    "    while not iterator.finished:\n",
    "        receivedElement = attenuatedIntTransmission(iterator[0])\n",
    "        receivedArray[iterator.multi_index] = receivedElement\n",
    "        iterator.iternext()\n",
    "    return receivedArray"
   ]
  },
  {
   "cell_type": "code",
   "execution_count": 110,
   "metadata": {},
   "outputs": [
    {
     "name": "stdout",
     "output_type": "stream",
     "text": [
      "Original image:\n"
     ]
    },
    {
     "data": {
      "text/plain": [
       "<matplotlib.image.AxesImage at 0x1198e4bd0>"
      ]
     },
     "execution_count": 110,
     "metadata": {},
     "output_type": "execute_result"
    },
    {
     "data": {
      "image/png": "[encoded data removed]",
      "text/plain": [
       "<matplotlib.figure.Figure at 0x117eb3210>"
      ]
     },
     "metadata": {},
     "output_type": "display_data"
    }
   ],
   "source": [
    "# Let's try transmitting the following image: \n",
    "imgData = mp.image.imread(\"img/foundryLogo.bmp\") \n",
    "print \"Original image:\"\n",
    "plt.imshow(imgData)"
   ]
  },
  {
   "cell_type": "code",
   "execution_count": 111,
   "metadata": {},
   "outputs": [
    {
     "name": "stdout",
     "output_type": "stream",
     "text": [
      "Reconstructed transmitted image accounting for attenuation effects:\n"
     ]
    },
    {
     "data": {
      "text/plain": [
       "<matplotlib.image.AxesImage at 0x11991e810>"
      ]
     },
     "execution_count": 111,
     "metadata": {},
     "output_type": "execute_result"
    },
    {
     "data": {
      "image/png": "[encoded data removed]",
      "text/plain": [
       "<matplotlib.figure.Figure at 0x1198d5a50>"
      ]
     },
     "metadata": {},
     "output_type": "display_data"
    }
   ],
   "source": [
    "# Transmit the image with the attenuated superdense protocol\n",
    "receivedArray = attenuatedArrayTransmission(imgData)\n",
    "print \"Reconstructed transmitted image accounting for attenuation effects:\"\n",
    "plt.imshow(receivedArray)"
   ]
  },
  {
   "cell_type": "markdown",
   "metadata": {},
   "source": [
    "## Testing area for QStream class"
   ]
  },
  {
   "cell_type": "code",
   "execution_count": 14,
   "metadata": {},
   "outputs": [],
   "source": [
    "from squanch import qstream\n",
    "from squanch import gates"
   ]
  },
  {
   "cell_type": "code",
   "execution_count": 15,
   "metadata": {},
   "outputs": [],
   "source": [
    "qs = qstream.QStream(2,100)"
   ]
  },
  {
   "cell_type": "code",
   "execution_count": 16,
   "metadata": {},
   "outputs": [
    {
     "ename": "TypeError",
     "evalue": "'numpy.float64' object cannot be interpreted as an index",
     "traceback": [
      "\u001b[0;31m\u001b[0m",
      "\u001b[0;31mTypeError\u001b[0mTraceback (most recent call last)",
      "\u001b[0;32m<ipython-input-16-1afaf34e743c>\u001b[0m in \u001b[0;36m<module>\u001b[0;34m()\u001b[0m\n\u001b[0;32m----> 1\u001b[0;31m \u001b[0mqs\u001b[0m\u001b[0;34m.\u001b[0m\u001b[0msystem\u001b[0m\u001b[0;34m(\u001b[0m\u001b[0;36m0\u001b[0m\u001b[0;34m)\u001b[0m\u001b[0;34m.\u001b[0m\u001b[0mapply\u001b[0m\u001b[0;34m(\u001b[0m\u001b[0mgates\u001b[0m\u001b[0;34m.\u001b[0m\u001b[0mH\u001b[0m\u001b[0;34m,\u001b[0m \u001b[0;36m0\u001b[0m\u001b[0;34m)\u001b[0m\u001b[0;34m\u001b[0m\u001b[0m\n\u001b[0m",
      "\u001b[0;32m/Users/benjaminbartlett/Dropbox/INQNET/superdense/squanch/qstream.py\u001b[0m in \u001b[0;36mapply\u001b[0;34m(self, operator, index)\u001b[0m\n\u001b[1;32m     64\u001b[0m         '''\n\u001b[1;32m     65\u001b[0m         \u001b[0;31m# Expand the operator to n qubits if needed\u001b[0m\u001b[0;34m\u001b[0m\u001b[0;34m\u001b[0m\u001b[0m\n\u001b[0;32m---> 66\u001b[0;31m         \u001b[0;32mif\u001b[0m \u001b[0mindex\u001b[0m \u001b[0;32mis\u001b[0m \u001b[0;32mnot\u001b[0m \u001b[0mNone\u001b[0m\u001b[0;34m:\u001b[0m\u001b[0;34m\u001b[0m\u001b[0m\n\u001b[0m\u001b[1;32m     67\u001b[0m             \u001b[0moperator\u001b[0m \u001b[0;34m=\u001b[0m \u001b[0mlinalg\u001b[0m\u001b[0;34m.\u001b[0m\u001b[0mtensorFillIdentity\u001b[0m\u001b[0;34m(\u001b[0m\u001b[0moperator\u001b[0m\u001b[0;34m,\u001b[0m \u001b[0mself\u001b[0m\u001b[0;34m.\u001b[0m\u001b[0mnumQubits\u001b[0m\u001b[0;34m,\u001b[0m \u001b[0mindex\u001b[0m\u001b[0;34m)\u001b[0m\u001b[0;34m\u001b[0m\u001b[0m\n\u001b[1;32m     68\u001b[0m         \u001b[0;31m# Apply the operator\u001b[0m\u001b[0;34m\u001b[0m\u001b[0;34m\u001b[0m\u001b[0m\n",
      "\u001b[0;32m/Users/benjaminbartlett/Dropbox/INQNET/superdense/squanch/linalg.pyc\u001b[0m in \u001b[0;36mtensorFillIdentity\u001b[0;34m(singleQubitOperator, nQubits, qubitIndex)\u001b[0m\n\u001b[1;32m     39\u001b[0m         \u001b[0mtensors\u001b[0m\u001b[0;34m(\u001b[0m\u001b[0;34m[\u001b[0m\u001b[0mnp\u001b[0m\u001b[0;34m.\u001b[0m\u001b[0meye\u001b[0m\u001b[0;34m(\u001b[0m\u001b[0;36m2\u001b[0m\u001b[0;34m)\u001b[0m\u001b[0;34m]\u001b[0m \u001b[0;34m*\u001b[0m \u001b[0mqubitIndex\u001b[0m\u001b[0;34m)\u001b[0m\u001b[0;34m,\u001b[0m\u001b[0;34m\u001b[0m\u001b[0m\n\u001b[1;32m     40\u001b[0m         \u001b[0msingleQubitOperator\u001b[0m\u001b[0;34m,\u001b[0m\u001b[0;34m\u001b[0m\u001b[0m\n\u001b[0;32m---> 41\u001b[0;31m         \u001b[0mtensors\u001b[0m\u001b[0;34m(\u001b[0m\u001b[0;34m[\u001b[0m\u001b[0mnp\u001b[0m\u001b[0;34m.\u001b[0m\u001b[0meye\u001b[0m\u001b[0;34m(\u001b[0m\u001b[0;36m2\u001b[0m\u001b[0;34m)\u001b[0m\u001b[0;34m]\u001b[0m \u001b[0;34m*\u001b[0m \u001b[0;34m(\u001b[0m\u001b[0mnQubits\u001b[0m \u001b[0;34m-\u001b[0m \u001b[0;34m(\u001b[0m\u001b[0mqubitIndex\u001b[0m \u001b[0;34m+\u001b[0m \u001b[0;36m1\u001b[0m\u001b[0;34m)\u001b[0m\u001b[0;34m)\u001b[0m\u001b[0;34m)\u001b[0m\u001b[0;34m\u001b[0m\u001b[0m\n\u001b[0m\u001b[1;32m     42\u001b[0m     ])\n\u001b[1;32m     43\u001b[0m     \u001b[0;32mreturn\u001b[0m \u001b[0moperator\u001b[0m\u001b[0;34m\u001b[0m\u001b[0m\n",
      "\u001b[0;31mTypeError\u001b[0m: 'numpy.float64' object cannot be interpreted as an index"
     ],
     "output_type": "error"
    }
   ],
   "source": [
    "qs.system(0).apply(gates.H, 0)"
   ]
  },
  {
   "cell_type": "code",
   "execution_count": 12,
   "metadata": {},
   "outputs": [
    {
     "data": {
      "text/plain": [
       "array([[ 0.70710678,  0.70710678],\n       [ 0.70710678, -0.70710678]])"
      ]
     },
     "execution_count": 12,
     "metadata": {},
     "output_type": "execute_result"
    }
   ],
   "source": [
    "gates.H"
   ]
  },
  {
   "cell_type": "code",
   "execution_count": null,
   "metadata": {},
   "outputs": [],
   "source": [
    ""
   ]
  }
 ],
 "metadata": {
  "kernelspec": {
   "display_name": "Python 2",
   "language": "python",
   "name": "python2"
  },
  "language_info": {
   "codemirror_mode": {
    "name": "ipython",
    "version": 2.0
   },
   "file_extension": ".py",
   "mimetype": "text/x-python",
   "name": "python",
   "nbconvert_exporter": "python",
   "pygments_lexer": "ipython2",
   "version": "2.7.6"
  }
 },
 "nbformat": 4,
 "nbformat_minor": 0
}