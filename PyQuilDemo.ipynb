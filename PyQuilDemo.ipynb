{
 "cells": [
  {
   "cell_type": "markdown",
   "metadata": {},
   "source": [
    "# Demonstration of pyQuil simulation capabilities\n",
    "### Ben Bartlett, 6.27.17"
   ]
  },
  {
   "cell_type": "code",
   "execution_count": 1,
   "metadata": {
    "collapsed": true
   },
   "outputs": [],
   "source": [
    "# Import everything\n",
    "import numpy as np\n",
    "import matplotlib.pyplot as plt\n",
    "%matplotlib inline \n",
    "\n",
    "import pyquil.quil as pq    # Quil language\n",
    "import pyquil.api as api    # Rigetti forest api\n",
    "from pyquil.gates import *  # All QC logical gates"
   ]
  },
  {
   "cell_type": "code",
   "execution_count": 4,
   "metadata": {
    "collapsed": true
   },
   "outputs": [],
   "source": [
    "def state0011(q1, q2):\n",
    "    '''Prepare the state |00> + |11> on qubits q1 and q2'''\n",
    "    return pq.Program(H(q1), CNOT(q1, q2))"
   ]
  },
  {
   "cell_type": "code",
   "execution_count": 5,
   "metadata": {
    "collapsed": true
   },
   "outputs": [],
   "source": [
    "def teleportQubit(alice, bob, ancilla):\n",
    "    '''Perform quantum teleportation from sending to receiving qubits using a single ancilla'''\n",
    "    # Set registers for Alice's qubit and Bob's ancilla and qubit\n",
    "    aliceRegister = 0\n",
    "    ancillaRegister = 1\n",
    "    bobRegister = 2\n",
    "    \n",
    "    # Generate an EPR pair with Bob's receiving and ancillary qubits\n",
    "    Hilbert = state0011(bob, ancilla)\n",
    "    \n",
    "    # Teleport Alice's qubit into Bob's ancilla \n",
    "    Hilbert.inst( CNOT(alice, ancilla),\n",
    "                  H(alice) )\n",
    "    \n",
    "    # Measure Alice's qubit and Bob's ancilla and put them in a classical comms line\n",
    "    Hilbert.measure(alice, aliceRegister)\n",
    "    Hilbert.measure(ancilla, ancillaRegister)\n",
    "    \n",
    "    # Act on Bob's qubit with X and Z accordingly to reconstruct Alice's original state\n",
    "    Hilbert.if_then(ancillaRegister, X(bob)) # If ancilla collapses to 1, apply X\n",
    "    Hilbert.if_then(aliceRegister, Z(bob))   # If Alice's state collapses to 1, apply Z\n",
    "    \n",
    "    # Measure Bob's qubit\n",
    "    Hilbert.measure(bob, bobRegister) \n",
    "    \n",
    "    return Hilbert"
   ]
  },
  {
   "cell_type": "code",
   "execution_count": 46,
   "metadata": {
    "collapsed": true
   },
   "outputs": [],
   "source": [
    "def teleportationDemo(qvm): \n",
    "    '''Executes a few teleportations on the quantum VM qvm'''\n",
    "    alice, bob, ancilla = 0, 2, 1\n",
    "    # Teleport |0> \n",
    "    demo0 = pq.Program() \n",
    "    demo0 += teleportQubit(alice, bob, ancilla) \n",
    "    print \"Teleporting |0> from Alice to Bob: \", qvm.run(demo0, [bob]) \n",
    "    \n",
    "    # Teleport |1> \n",
    "    demo1 = pq.Program(X(alice)) # flip Alice's qubit from |0> to |1>\n",
    "    demo1 += teleportQubit(alice, bob, ancilla) \n",
    "    print \"Teleporting |1> from Alice to Bob: \", qvm.run(demo1, [bob]) \n",
    "    \n",
    "    # Teleport 1/sqrt(2)*(|0> + |1>) \n",
    "    demo1 = pq.Program(H(alice)) # flip Alice's qubit from |0> to |+>\n",
    "    demo1 += teleportQubit(alice, bob, ancilla) \n",
    "    print \"Teleporting 1/sqrt(2)*(|0> + |1>) from Alice to Bob: \", qvm.run(demo1, [bob]) \n",
    "    \n",
    "    print \"\\n\""
   ]
  },
  {
   "cell_type": "code",
   "execution_count": 45,
   "metadata": {
    "collapsed": true
   },
   "outputs": [],
   "source": [
    "def teleportationRotationDemo(qvm):\n",
    "    '''Tests teleportation capabilities against expected values for range of phases'''\n",
    "    # Perform teleportation across angles \n",
    "    alice, bob, ancilla = 0, 2, 1\n",
    "    angles = np.linspace(0, 2* np.pi, 20) # Series of angles to be applied to rotation-X operator \n",
    "    numRepetitions = 30 # number of trial repetitions for each angle\n",
    "    results = np.zeros((len(angles), numRepetitions)) # an nAngles * nRepetitions array of results\n",
    "    print \"Performing teleportation rotation test, this may take a while...\"\n",
    "    for i, angle in enumerate(angles):\n",
    "        for j in range(numRepetitions):\n",
    "            demo = pq.Program(RX(angle, alice)) \n",
    "            demo += teleportQubit(alice, bob, ancilla) \n",
    "            measuredResult = qvm.run(demo, [bob])[0][0] # an eigenstate in computational basis \n",
    "            results[i,j] = measuredResult # put the result in the array \n",
    "\n",
    "    # Compare the results with expected values and make a nice pretty plot\n",
    "    meanResults = np.mean(results, axis=1)\n",
    "    expectedResults = np.sin(angles/2)**2\n",
    "    plt.plot(angles, meanResults, label='Observed') \n",
    "    plt.plot(angles, expectedResults, label='Expected')\n",
    "    plt.legend()\n",
    "    plt.xlabel(\"$\\Theta$ applied to $R_X$(Alice)\")\n",
    "    plt.ylabel(\"Teleported qubit measurement\") \n",
    "    plt.show()"
   ]
  },
  {
   "cell_type": "code",
   "execution_count": 47,
   "metadata": {},
   "outputs": [
    {
     "name": "stdout",
     "output_type": "stream",
     "text": [
      "Teleporting |0> from Alice to Bob:  [[0]]\n",
      "Teleporting |1> from Alice to Bob:  [[1]]\n",
      "Teleporting 1/sqrt(2)*(|0> + |1>) from Alice to Bob:  [[0]]\n",
      "\n",
      "\n",
      "Performing teleportation rotation test, this may take a while...\n"
     ]
    },
    {
     "data": {
      "image/png": "[encoded data removed]",
      "text/plain": [
       "<matplotlib.figure.Figure at 0x118c3d290>"
      ]
     },
     "metadata": {},
     "output_type": "display_data"
    }
   ],
   "source": [
    "# Set up the quantum vm\n",
    "qvm = api.SyncConnection() \n",
    "\n",
    "# Run the demos\n",
    "teleportationDemo(qvm)\n",
    "\n",
    "teleportationRotationDemo(qvm)"
   ]
  },
  {
   "cell_type": "code",
   "execution_count": null,
   "metadata": {
    "collapsed": true
   },
   "outputs": [],
   "source": [
    ""
   ]
  }
 ],
 "metadata": {
  "kernelspec": {
   "display_name": "Python 2",
   "language": "python",
   "name": "python2"
  },
  "language_info": {
   "codemirror_mode": {
    "name": "ipython",
    "version": 2.0
   },
   "file_extension": ".py",
   "mimetype": "text/x-python",
   "name": "python",
   "nbconvert_exporter": "python",
   "pygments_lexer": "ipython2",
   "version": "2.7.13"
  }
 },
 "nbformat": 4,
 "nbformat_minor": 0
}