{
 "cells": [
  {
   "cell_type": "markdown",
   "metadata": {},
   "source": [
    "# SQUANCH demonstration: quantum error correction with the Shor code"
   ]
  },
  {
   "cell_type": "code",
   "execution_count": 1,
   "metadata": {},
   "outputs": [],
   "source": [
    "from squanch import *\n",
    "from scipy.stats import unitary_group\n",
    "import copy\n",
    "import numpy as np\n",
    "import matplotlib.image as image\n",
    "import matplotlib.pyplot as plt\n",
    "%matplotlib inline"
   ]
  },
  {
   "cell_type": "markdown",
   "metadata": {},
   "source": [
    "This Jupyter notebook contains the source code for the [Shor code demonstration](https://att-innovate.github.io/squanch/demos/quantum-error-correction.html). Refer to the documentation for more detailed explanations. \n",
    "\n",
    "In this demonstration, we show how to use SQUANCH's channel and error modules to simulate quantum errors in a transmitted message, which we correct for using the [Shor code](https://en.wikipedia.org/wiki/Quantum_error_correction#The_Shor_code). This error correction model encodes a single logical qubit into the product of 9 physical qubits and is capable of correcting for arbitrary single-qubit errors. A circuit diagram of the protocol we will implement is shown below, where $E$ represents a quantum channel which can arbitrarily corrupt a single qubit:\n",
    "\n",
    "![](https://upload.wikimedia.org/wikipedia/commons/a/a9/Shore_code.svg)"
   ]
  },
  {
   "cell_type": "markdown",
   "metadata": {},
   "source": [
    "## Agent logic"
   ]
  },
  {
   "cell_type": "code",
   "execution_count": 2,
   "metadata": {},
   "outputs": [],
   "source": [
    "class Alice(Agent):\n",
    "    '''Alice sends an arbitrary Shor-encoded state to Bob'''\n",
    "    def shor_encode(self, qsys):\n",
    "        # psi is state to send, q1...q8 are ancillas from top to bottom in diagram\n",
    "        psi, q1, q2, q3, q4, q5, q6, q7, q8 = qsys.qubits\n",
    "        # Gates are enumerated left to right, top to bottom from figure\n",
    "        CNOT(psi, q3)\n",
    "        CNOT(psi, q6)\n",
    "        H(psi)\n",
    "        H(q3)\n",
    "        H(q6)\n",
    "        CNOT(psi, q1)\n",
    "        CNOT(psi, q2) \n",
    "        CNOT(q3, q4)\n",
    "        CNOT(q3, q5)\n",
    "        CNOT(q6, q7)\n",
    "        CNOT(q6, q8)\n",
    "        return psi, q1, q2, q3, q4, q5, q6, q7, q8\n",
    "    \n",
    "    def run(self):\n",
    "        for qsys in self.stream:\n",
    "            # send the encoded qubits to Bob \n",
    "            for qubit in self.shor_encode(qsys):\n",
    "                self.qsend(bob, qubit)\n",
    "                \n",
    "class DumbAlice(Agent):\n",
    "    '''DumbAlice sends a state to Bob but forgets to error-correct!'''   \n",
    "    def run(self):\n",
    "        for qsys in self.stream:\n",
    "            for qubit in qsys.qubits:\n",
    "                self.qsend(dumb_bob, qubit)"
   ]
  },
  {
   "cell_type": "code",
   "execution_count": 3,
   "metadata": {},
   "outputs": [],
   "source": [
    "class Bob(Agent):\n",
    "    '''Bob receives Alice's qubits and applied error correction'''\n",
    "    def shor_decode(self, psi, q1, q2, q3, q4, q5, q6, q7, q8):\n",
    "        # same enumeration as Alice\n",
    "        CNOT(psi, q1)\n",
    "        CNOT(psi, q2)\n",
    "        TOFFOLI(q2, q1, psi)\n",
    "        CNOT(q3, q4)\n",
    "        CNOT(q3, q5)\n",
    "        TOFFOLI(q5, q4, q3)\n",
    "        CNOT(q6, q7)\n",
    "        CNOT(q6, q8)\n",
    "        TOFFOLI(q7, q8, q6) # Toffoli control qubit order doesn't matter\n",
    "        H(psi)\n",
    "        H(q3)\n",
    "        H(q6)\n",
    "        CNOT(psi, q3)\n",
    "        CNOT(psi, q6)\n",
    "        TOFFOLI(q6, q3, psi)\n",
    "        return psi # psi is now the original state\n",
    "    \n",
    "    def run(self):\n",
    "        measurement_results = []\n",
    "        for _ in self.stream:\n",
    "            # Bob receives 9 qubits representing Alice's encoded state\n",
    "            received = [self.qrecv(alice) for _ in range(9)]\n",
    "#             for i in range(9):\n",
    "#                 q = self.qrecv(alice)\n",
    "#                 received.append(q)\n",
    "            # Decode and measure the original state\n",
    "            psi_true = self.shor_decode(*received)\n",
    "            measurement_results.append(psi_true.measure())\n",
    "        self.output(measurement_results)\n",
    "        \n",
    "class DumbBob(Agent):\n",
    "    '''DumbBob receives a state from Alice but does not error-correct'''\n",
    "    def run(self):\n",
    "        measurement_results = []\n",
    "        for _ in self.stream:\n",
    "            received = []\n",
    "            for i in range(9):\n",
    "                received.append(self.qrecv(dumb_alice))\n",
    "            psi_true = received[0]\n",
    "            measurement_results.append(psi_true.measure())\n",
    "        self.output(measurement_results)"
   ]
  },
  {
   "cell_type": "markdown",
   "metadata": {},
   "source": [
    "## Quantum error model"
   ]
  },
  {
   "cell_type": "code",
   "execution_count": 4,
   "metadata": {},
   "outputs": [],
   "source": [
    "# class ShorError(QError):\n",
    "#     '''Randomly apply a bit flip, a sign flip, or both to any given transmitted qubit'''\n",
    "\n",
    "#     def __init__(self, qchannel):\n",
    "#         '''\n",
    "#         Instatiate the error model from the parent class\n",
    "#         :param QChannel qchannel: parent quantum channel\n",
    "#         '''\n",
    "#         QError.__init__(self, qchannel)\n",
    "#         self.count = 0\n",
    "#         self.error_applied = False\n",
    "\n",
    "#     def apply(self, qubit):\n",
    "#         '''\n",
    "#         Randomly apply a bit flip, sign flip, or both to the qubit\n",
    "#         :param Qubit qubit: qubit from quantum channel\n",
    "#         :return: either unchanged qubit or None\n",
    "#         '''\n",
    "#         # qubit could be None if combining with other error models, such as attenuation\n",
    "#         if not self.error_applied and qubit is not None:\n",
    "#             if np.random.rand() > 0.5: \n",
    "#                 X(qubit) # apply bit flip\n",
    "#                 self.error_applied = True\n",
    "#             if np.random.rand() > 0.5: \n",
    "#                 Z(qubit) # apply sign flip\n",
    "#                 self.error_applied = True\n",
    "#         self.count += 1\n",
    "#         if self.count >= 9:\n",
    "#             self.count = self.count % 9\n",
    "#             self.error_applied = False\n",
    "#         return qubit"
   ]
  },
  {
   "cell_type": "code",
   "execution_count": 5,
   "metadata": {},
   "outputs": [],
   "source": [
    "class ShorError(QError):\n",
    "\n",
    "    def __init__(self, qchannel):\n",
    "        '''\n",
    "        Instatiate the error model from the parent class\n",
    "        :param QChannel qchannel: parent quantum channel\n",
    "        '''\n",
    "        QError.__init__(self, qchannel)\n",
    "        self.count = 0 # tracks which qubit out of 9 we're at\n",
    "        self.error_applied = False # if another error can be applied\n",
    "\n",
    "    def apply(self, qubit):\n",
    "        '''\n",
    "        Apply a random unitary operation to one of the qubits in a set of 9\n",
    "        :param Qubit qubit: qubit from quantum channel\n",
    "        :return: either unchanged qubit or None\n",
    "        '''\n",
    "        if self.count == 0:\n",
    "            self.error_applied = False\n",
    "        # qubit could be None if combining with other error models, such as attenuation\n",
    "        if not self.error_applied and qubit is not None:\n",
    "            if np.random.rand() < 0.1: # apply the error\n",
    "                random_unitary = unitary_group.rvs(2) # pick a random U(2) matrix\n",
    "                qubit.apply(random_unitary)\n",
    "                self.error_applied = True\n",
    "        # update count and reset error if necessary\n",
    "        self.count = (self.count + 1) % 9\n",
    "        return qubit"
   ]
  },
  {
   "cell_type": "markdown",
   "metadata": {},
   "source": [
    "## Channel model"
   ]
  },
  {
   "cell_type": "code",
   "execution_count": 6,
   "metadata": {},
   "outputs": [],
   "source": [
    "class ShorQChannel(QChannel):\n",
    "    '''Represents a quantum channel with a Shor error applied'''\n",
    "    \n",
    "    def __init__(self, from_agent, to_agent):\n",
    "        QChannel.__init__(self, from_agent, to_agent)\n",
    "        # register the error model\n",
    "        self.errors = [ShorError(self)] "
   ]
  },
  {
   "cell_type": "markdown",
   "metadata": {},
   "source": [
    "## Running the simulation"
   ]
  },
  {
   "cell_type": "code",
   "execution_count": 7,
   "metadata": {},
   "outputs": [],
   "source": [
    "def to_bits(string):\n",
    "    '''Convert a string to a list of bits'''\n",
    "    result = []\n",
    "    for c in string:\n",
    "        bits = bin(ord(c))[2:]\n",
    "        bits = '00000000'[len(bits):] + bits\n",
    "        result.extend([int(b) for b in bits])\n",
    "    return result\n",
    "\n",
    "def from_bits(bits):\n",
    "    '''Convert a list of bits to a string'''\n",
    "    chars = []\n",
    "    for b in range(int(len(bits) / 8)):\n",
    "        byte = bits[b*8:(b+1)*8]\n",
    "        chars.append(chr(int(''.join([str(bit) for bit in byte]), 2)))\n",
    "    return ''.join(chars)"
   ]
  },
  {
   "cell_type": "code",
   "execution_count": 9,
   "metadata": {},
   "outputs": [
    {
     "data": {
      "application/vnd.jupyter.widget-view+json": {
       "model_id": "157f1493939e4774ba0fb20b06bf3cd7",
       "version_major": 2,
       "version_minor": 0
      },
      "text/plain": [
       "HBox(children=(IntProgress(value=0, description='Alice', max=40), HTML(value='')))"
      ]
     },
     "metadata": {},
     "output_type": "display_data"
    },
    {
     "data": {
      "application/vnd.jupyter.widget-view+json": {
       "model_id": "5791ea5916474f6dad3bd821442a6700",
       "version_major": 2,
       "version_minor": 0
      },
      "text/plain": [
       "HBox(children=(IntProgress(value=0, description='Bob', max=40), HTML(value='')))"
      ]
     },
     "metadata": {},
     "output_type": "display_data"
    },
    {
     "name": "stdout",
     "output_type": "stream",
     "text": [
      "\n",
      "\n",
      "Alice sent:       Peter\n",
      "Bob received:     Peter\n"
     ]
    }
   ],
   "source": [
    "# Prepare a message to send\n",
    "msg = \"Peter\"# Shor once lived in Ruddock 238! But who was Airman?\"\n",
    "bits = to_bits(msg)\n",
    "\n",
    "# Allocate memory and output\n",
    "mem = Agent.shared_hilbert_space(9, len(bits)) # 9 qubits per encoded state\n",
    "out = Agent.shared_output()\n",
    "\n",
    "# Encode the message as spin eigenstates\n",
    "stream = QStream.from_array(mem)\n",
    "for bit, qsystem in zip(bits, stream):\n",
    "    q = qsystem.qubit(0)\n",
    "    if bit == 1: \n",
    "        X(q) \n",
    "\n",
    "# Alice and Bob will use error correction\n",
    "alice = Alice(mem, out)\n",
    "bob = Bob(mem, out)\n",
    "alice.qconnect(bob)#, ShorQChannel)\n",
    "\n",
    "# Dumb agents won't use error correction\n",
    "# mem2 = copy.deepcopy(mem)\n",
    "# dumb_alice = DumbAlice(mem2, out)\n",
    "# dumb_bob = DumbBob(mem2, out)\n",
    "# dumb_alice.qconnect(dumb_bob, ShorQChannel)\n",
    "\n",
    "# Run everything and record results\n",
    "# Simulation(dumb_alice, dumb_bob, alice, bob).run()\n",
    "Simulation(alice, bob).run()\n",
    "\n",
    "# print(\"DumbAlice sent:   {}\".format(msg))\n",
    "# print(\"DumbBob received: {}\".format(from_bits(out[\"DumbBob\"])))\n",
    "# print(\"\")\n",
    "print(\"Alice sent:       {}\".format(msg))\n",
    "print(\"Bob received:     {}\".format(from_bits(out[\"Bob\"])))"
   ]
  },
  {
   "cell_type": "code",
   "execution_count": 56,
   "metadata": {},
   "outputs": [
    {
     "data": {
      "text/plain": [
       "0.6144986065374577"
      ]
     },
     "execution_count": 56,
     "metadata": {},
     "output_type": "execute_result"
    }
   ],
   "source": [
    "np.random.rand()"
   ]
  },
  {
   "cell_type": "code",
   "execution_count": 55,
   "metadata": {},
   "outputs": [],
   "source": [
    "mem = Agent.shared_hilbert_space(9, len(bits)) # 9 qubits per encoded state"
   ]
  },
  {
   "cell_type": "code",
   "execution_count": 14,
   "metadata": {},
   "outputs": [
    {
     "data": {
      "text/plain": [
       "array([[[ 1.+0.j,  0.+0.j,  0.+0.j, ...,  0.+0.j,  0.+0.j,  0.+0.j],\n",
       "        [ 0.+0.j,  0.+0.j,  0.+0.j, ...,  0.+0.j,  0.+0.j,  0.+0.j],\n",
       "        [ 0.+0.j,  0.+0.j,  0.+0.j, ...,  0.+0.j,  0.+0.j,  0.+0.j],\n",
       "        ..., \n",
       "        [ 0.+0.j,  0.+0.j,  0.+0.j, ...,  0.+0.j,  0.+0.j,  0.+0.j],\n",
       "        [ 0.+0.j,  0.+0.j,  0.+0.j, ...,  0.+0.j,  0.+0.j,  0.+0.j],\n",
       "        [ 0.+0.j,  0.+0.j,  0.+0.j, ...,  0.+0.j,  0.+0.j,  0.+0.j]],\n",
       "\n",
       "       [[ 1.+0.j,  0.+0.j,  0.+0.j, ...,  0.+0.j,  0.+0.j,  0.+0.j],\n",
       "        [ 0.+0.j,  0.+0.j,  0.+0.j, ...,  0.+0.j,  0.+0.j,  0.+0.j],\n",
       "        [ 0.+0.j,  0.+0.j,  0.+0.j, ...,  0.+0.j,  0.+0.j,  0.+0.j],\n",
       "        ..., \n",
       "        [ 0.+0.j,  0.+0.j,  0.+0.j, ...,  0.+0.j,  0.+0.j,  0.+0.j],\n",
       "        [ 0.+0.j,  0.+0.j,  0.+0.j, ...,  0.+0.j,  0.+0.j,  0.+0.j],\n",
       "        [ 0.+0.j,  0.+0.j,  0.+0.j, ...,  0.+0.j,  0.+0.j,  0.+0.j]],\n",
       "\n",
       "       [[ 1.+0.j,  0.+0.j,  0.+0.j, ...,  0.+0.j,  0.+0.j,  0.+0.j],\n",
       "        [ 0.+0.j,  0.+0.j,  0.+0.j, ...,  0.+0.j,  0.+0.j,  0.+0.j],\n",
       "        [ 0.+0.j,  0.+0.j,  0.+0.j, ...,  0.+0.j,  0.+0.j,  0.+0.j],\n",
       "        ..., \n",
       "        [ 0.+0.j,  0.+0.j,  0.+0.j, ...,  0.+0.j,  0.+0.j,  0.+0.j],\n",
       "        [ 0.+0.j,  0.+0.j,  0.+0.j, ...,  0.+0.j,  0.+0.j,  0.+0.j],\n",
       "        [ 0.+0.j,  0.+0.j,  0.+0.j, ...,  0.+0.j,  0.+0.j,  0.+0.j]],\n",
       "\n",
       "       ..., \n",
       "       [[ 1.+0.j,  0.+0.j,  0.+0.j, ...,  0.+0.j,  0.+0.j,  0.+0.j],\n",
       "        [ 0.+0.j,  0.+0.j,  0.+0.j, ...,  0.+0.j,  0.+0.j,  0.+0.j],\n",
       "        [ 0.+0.j,  0.+0.j,  0.+0.j, ...,  0.+0.j,  0.+0.j,  0.+0.j],\n",
       "        ..., \n",
       "        [ 0.+0.j,  0.+0.j,  0.+0.j, ...,  0.+0.j,  0.+0.j,  0.+0.j],\n",
       "        [ 0.+0.j,  0.+0.j,  0.+0.j, ...,  0.+0.j,  0.+0.j,  0.+0.j],\n",
       "        [ 0.+0.j,  0.+0.j,  0.+0.j, ...,  0.+0.j,  0.+0.j,  0.+0.j]],\n",
       "\n",
       "       [[ 1.+0.j,  0.+0.j,  0.+0.j, ...,  0.+0.j,  0.+0.j,  0.+0.j],\n",
       "        [ 0.+0.j,  0.+0.j,  0.+0.j, ...,  0.+0.j,  0.+0.j,  0.+0.j],\n",
       "        [ 0.+0.j,  0.+0.j,  0.+0.j, ...,  0.+0.j,  0.+0.j,  0.+0.j],\n",
       "        ..., \n",
       "        [ 0.+0.j,  0.+0.j,  0.+0.j, ...,  0.+0.j,  0.+0.j,  0.+0.j],\n",
       "        [ 0.+0.j,  0.+0.j,  0.+0.j, ...,  0.+0.j,  0.+0.j,  0.+0.j],\n",
       "        [ 0.+0.j,  0.+0.j,  0.+0.j, ...,  0.+0.j,  0.+0.j,  0.+0.j]],\n",
       "\n",
       "       [[ 1.+0.j,  0.+0.j,  0.+0.j, ...,  0.+0.j,  0.+0.j,  0.+0.j],\n",
       "        [ 0.+0.j,  0.+0.j,  0.+0.j, ...,  0.+0.j,  0.+0.j,  0.+0.j],\n",
       "        [ 0.+0.j,  0.+0.j,  0.+0.j, ...,  0.+0.j,  0.+0.j,  0.+0.j],\n",
       "        ..., \n",
       "        [ 0.+0.j,  0.+0.j,  0.+0.j, ...,  0.+0.j,  0.+0.j,  0.+0.j],\n",
       "        [ 0.+0.j,  0.+0.j,  0.+0.j, ...,  0.+0.j,  0.+0.j,  0.+0.j],\n",
       "        [ 0.+0.j,  0.+0.j,  0.+0.j, ...,  0.+0.j,  0.+0.j,  0.+0.j]]], dtype=complex64)"
      ]
     },
     "execution_count": 14,
     "metadata": {},
     "output_type": "execute_result"
    }
   ],
   "source": [
    "mem"
   ]
  },
  {
   "cell_type": "code",
   "execution_count": 22,
   "metadata": {},
   "outputs": [
    {
     "name": "stdout",
     "output_type": "stream",
     "text": [
      "[0, 1, 0, 1, 0, 0, 0, 0, 0, 1, 1, 0, 0, 1, 0, 1, 0, 1, 1, 1, 0, 1, 0, 0, 0, 1, 1, 0, 0, 1, 0, 1, 0, 1, 1, 1, 0, 0, 1, 0]\n",
      "[1, 1, 1, 1, 0, 0, 0, 0, 1, 1, 1, 0, 1, 1, 0, 1, 0, 1, 1, 1, 1, 1, 1, 0, 1, 1, 1, 0, 0, 1, 1, 1, 1, 1, 1, 1, 1, 0, 1, 0]\n"
     ]
    }
   ],
   "source": [
    "print(bits)\n",
    "print(out[\"Bob\"])"
   ]
  },
  {
   "cell_type": "code",
   "execution_count": 34,
   "metadata": {},
   "outputs": [
    {
     "name": "stdout",
     "output_type": "stream",
     "text": [
      "[0, 1, 0, 1, 0, 0, 0, 0, 0, 1, 1, 0, 0, 1, 0, 1, 0, 1, 1, 1, 0, 1, 0, 0, 0, 1, 1, 0, 0, 1, 0, 1, 0, 1, 1, 1, 0, 0, 1, 0]\n",
      "[1, 1, 1, 1, 0, 0, 0, 0, 1, 1, 1, 0, 1, 1, 0, 1, 0, 1, 1, 1, 1, 1, 1, 0, 1, 1, 1, 0, 0, 1, 1, 1, 1, 1, 1, 1, 1, 0, 1, 0]\n"
     ]
    }
   ],
   "source": [
    "print(bits)\n",
    "print(out[\"Bob\"])"
   ]
  },
  {
   "cell_type": "code",
   "execution_count": 9,
   "metadata": {},
   "outputs": [
    {
     "name": "stdout",
     "output_type": "stream",
     "text": [
      "[0, 1, 0, 1, 0, 0, 0, 0, 0, 1, 1, 0, 0, 1, 0, 1, 0, 1, 1, 1, 0, 1, 0, 0, 0, 1, 1, 0, 0, 1, 0, 1, 0, 1, 1, 1, 0, 0, 1, 0]\n",
      "[0, 1, 0, 1, 0, 1, 0, 0, 1, 1, 1, 0, 1, 1, 0, 1, 1, 1, 1, 1, 0, 1, 0, 0, 1, 1, 1, 0, 0, 1, 0, 1, 0, 1, 1, 1, 0, 0, 1, 1]\n"
     ]
    }
   ],
   "source": [
    "print(bits)\n",
    "print(out[\"Bob\"])"
   ]
  },
  {
   "cell_type": "code",
   "execution_count": 34,
   "metadata": {},
   "outputs": [
    {
     "name": "stdout",
     "output_type": "stream",
     "text": [
      "[0, 1, 0, 1, 0, 0, 0, 0, 0, 1, 1, 0, 0, 1, 0, 1, 0, 1, 1, 1, 0, 1, 0, 0, 0, 1, 1, 0, 0, 1, 0, 1, 0, 1, 1, 1, 0, 0, 1, 0]\n",
      "[0, 1, 0, 1, 1, 0, 0, 0, 1, 1, 1, 1, 0, 1, 0, 1, 0, 1, 1, 1, 0, 1, 1, 0, 0, 1, 1, 0, 0, 1, 0, 1, 0, 1, 1, 1, 1, 0, 1, 0]\n"
     ]
    }
   ],
   "source": [
    "print(bits)\n",
    "print(out[\"Bob\"])"
   ]
  },
  {
   "cell_type": "code",
   "execution_count": 14,
   "metadata": {},
   "outputs": [
    {
     "name": "stdout",
     "output_type": "stream",
     "text": [
      "[0, 1, 0, 1, 0, 0, 0, 0, 0, 1, 1, 0, 0, 1, 0, 1, 0, 1, 1, 1, 0, 1, 0, 0, 0, 1, 1, 0, 0, 1, 0, 1, 0, 1, 1, 1, 0, 0, 1, 0]\n",
      "[0, 1, 0, 1, 1, 0, 0, 1, 0, 1, 1, 1, 0, 1, 0, 1, 0, 1, 1, 1, 1, 1, 0, 0, 0, 1, 1, 1, 0, 1, 0, 1, 0, 1, 1, 1, 0, 0, 1, 0]\n"
     ]
    }
   ],
   "source": [
    "print(bits)\n",
    "print(out[\"Bob\"])"
   ]
  },
  {
   "cell_type": "code",
   "execution_count": null,
   "metadata": {},
   "outputs": [],
   "source": []
  }
 ],
 "metadata": {
  "kernelspec": {
   "display_name": "Python 3",
   "language": "python",
   "name": "python3"
  },
  "language_info": {
   "codemirror_mode": {
    "name": "ipython",
    "version": 3
   },
   "file_extension": ".py",
   "mimetype": "text/x-python",
   "name": "python",
   "nbconvert_exporter": "python",
   "pygments_lexer": "ipython3",
   "version": "3.6.5"
  }
 },
 "nbformat": 4,
 "nbformat_minor": 2
}
